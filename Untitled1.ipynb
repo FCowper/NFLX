{
 "cells": [
  {
   "cell_type": "code",
   "execution_count": 26,
   "metadata": {},
   "outputs": [
    {
     "name": "stdout",
     "output_type": "stream",
     "text": [
      "      change_pct    last                time\n",
      "NFLX        -0.4  187.17 2017-07-25 11:49:00 2017-07-25 16:49:11.501363\n",
      "      change_pct    last                time\n",
      "NFLX       -0.41  187.14 2017-07-25 11:49:00 2017-07-25 16:49:17.225907\n",
      "      change_pct    last                time\n",
      "NFLX       -0.42  187.13 2017-07-25 11:49:00 2017-07-25 16:49:22.946307\n",
      "      change_pct    last                time\n",
      "NFLX        -0.4  187.16 2017-07-25 11:49:00 2017-07-25 16:49:28.680951\n",
      "      change_pct    last                time\n",
      "NFLX        -0.4  187.16 2017-07-25 11:49:00 2017-07-25 16:49:34.422216\n",
      "      change_pct    last                time\n",
      "NFLX        -0.4  187.15 2017-07-25 11:49:00 2017-07-25 16:49:40.161145\n",
      "      change_pct    last                time\n",
      "NFLX        -0.4  187.15 2017-07-25 11:49:00 2017-07-25 16:49:45.882323\n",
      "      change_pct    last                time\n",
      "NFLX        -0.4  187.15 2017-07-25 11:49:00 2017-07-25 16:49:51.606015\n",
      "      change_pct    last                time\n",
      "NFLX        -0.4  187.15 2017-07-25 11:49:00 2017-07-25 16:49:57.317746\n",
      "      change_pct    last                time\n",
      "NFLX       -0.42  187.12 2017-07-25 11:49:00 2017-07-25 16:50:03.097850\n",
      "      change_pct    last                time\n",
      "NFLX       -0.39  187.18 2017-07-25 11:50:00 2017-07-25 16:50:09.065588\n",
      "      change_pct    last                time\n",
      "NFLX        -0.4  187.16 2017-07-25 11:50:00 2017-07-25 16:50:14.845300\n",
      "      change_pct    last                time\n",
      "NFLX        -0.4  187.16 2017-07-25 11:50:00 2017-07-25 16:50:20.570919\n",
      "      change_pct    last                time\n",
      "NFLX       -0.37  187.21 2017-07-25 11:50:00 2017-07-25 16:50:26.292991\n",
      "      change_pct    last                time\n",
      "NFLX       -0.39  187.17 2017-07-25 11:50:00 2017-07-25 16:50:32.023189\n",
      "      change_pct   last                time\n",
      "NFLX       -0.38  187.2 2017-07-25 11:50:00 2017-07-25 16:50:37.742514\n",
      "      change_pct   last                time\n",
      "NFLX       -0.38  187.2 2017-07-25 11:50:00 2017-07-25 16:50:43.452362\n",
      "      change_pct   last                time\n",
      "NFLX       -0.38  187.2 2017-07-25 11:50:00 2017-07-25 16:50:49.169569\n",
      "      change_pct    last                time\n",
      "NFLX       -0.39  187.17 2017-07-25 11:50:00 2017-07-25 16:50:54.663718\n",
      "      change_pct    last                time\n",
      "NFLX       -0.39  187.17 2017-07-25 11:50:00 2017-07-25 16:51:00.101623\n",
      "      change_pct    last                time\n",
      "NFLX       -0.35  187.25 2017-07-25 11:51:00 2017-07-25 16:51:05.293644\n",
      "      change_pct    last                time\n",
      "NFLX       -0.37  187.21 2017-07-25 11:51:00 2017-07-25 16:51:10.567606\n",
      "      change_pct    last                time\n",
      "NFLX       -0.37  187.21 2017-07-25 11:51:00 2017-07-25 16:51:15.844616\n",
      "      change_pct    last                time\n",
      "NFLX       -0.37  187.21 2017-07-25 11:51:00 2017-07-25 16:51:21.647497\n",
      "      change_pct    last                time\n",
      "NFLX       -0.37  187.21 2017-07-25 11:51:00 2017-07-25 16:51:27.723634\n",
      "      change_pct   last                time\n",
      "NFLX       -0.32  187.3 2017-07-25 11:51:00 2017-07-25 16:51:33.453979\n",
      "      change_pct   last                time\n",
      "NFLX       -0.32  187.3 2017-07-25 11:51:00 2017-07-25 16:51:39.191865\n",
      "      change_pct    last                time\n",
      "NFLX       -0.26  187.43 2017-07-25 11:51:00 2017-07-25 16:51:44.901646\n",
      "      change_pct    last                time\n",
      "NFLX       -0.25  187.44 2017-07-25 11:51:00 2017-07-25 16:51:50.643227\n",
      "      change_pct    last                time\n",
      "NFLX       -0.26  187.43 2017-07-25 11:51:00 2017-07-25 16:51:56.387914\n",
      "      change_pct    last                time\n",
      "NFLX       -0.26  187.43 2017-07-25 11:51:00 2017-07-25 16:52:02.099837\n",
      "      change_pct    last                time\n",
      "NFLX       -0.26  187.43 2017-07-25 11:52:00 2017-07-25 16:52:07.824580\n",
      "      change_pct    last                time\n",
      "NFLX       -0.23  187.48 2017-07-25 11:52:00 2017-07-25 16:52:13.558733\n",
      "      change_pct    last                time\n",
      "NFLX       -0.21  187.51 2017-07-25 11:52:00 2017-07-25 16:52:19.286972\n"
     ]
    },
    {
     "ename": "KeyboardInterrupt",
     "evalue": "",
     "output_type": "error",
     "traceback": [
      "\u001b[1;31m---------------------------------------------------------------------------\u001b[0m",
      "\u001b[1;31mKeyboardInterrupt\u001b[0m                         Traceback (most recent call last)",
      "\u001b[1;32m<ipython-input-26-b574cf86dc4f>\u001b[0m in \u001b[0;36m<module>\u001b[1;34m()\u001b[0m\n\u001b[0;32m     17\u001b[0m     \u001b[0mprint\u001b[0m\u001b[1;33m(\u001b[0m\u001b[0mt\u001b[0m\u001b[1;33m,\u001b[0m \u001b[0mwritten\u001b[0m\u001b[1;33m)\u001b[0m\u001b[1;33m\u001b[0m\u001b[0m\n\u001b[0;32m     18\u001b[0m \u001b[1;33m\u001b[0m\u001b[0m\n\u001b[1;32m---> 19\u001b[1;33m     \u001b[0mtime\u001b[0m\u001b[1;33m.\u001b[0m\u001b[0msleep\u001b[0m\u001b[1;33m(\u001b[0m\u001b[1;36m5\u001b[0m\u001b[1;33m)\u001b[0m\u001b[1;33m\u001b[0m\u001b[0m\n\u001b[0m",
      "\u001b[1;31mKeyboardInterrupt\u001b[0m: "
     ]
    }
   ],
   "source": [
    "import schedule\n",
    "import time\n",
    "import pandas_datareader.data as web\n",
    "import datetime\n",
    "import sched, time\n",
    "import pyodbc\n",
    "\n",
    "\n",
    "\n",
    "\n",
    "while True:\n",
    "\n",
    "    \n",
    "    t = web.get_quote_google('NFLX')\n",
    "    stamp = t.at['NFLX', 'time']\n",
    "    written = datetime.datetime.now()\n",
    "    print(t, written)\n",
    "    \n",
    "    time.sleep(5)\n"
   ]
  },
  {
   "cell_type": "code",
   "execution_count": null,
   "metadata": {
    "collapsed": true
   },
   "outputs": [],
   "source": []
  }
 ],
 "metadata": {
  "kernelspec": {
   "display_name": "Python 3",
   "language": "python",
   "name": "python3"
  },
  "language_info": {
   "codemirror_mode": {
    "name": "ipython",
    "version": 3
   },
   "file_extension": ".py",
   "mimetype": "text/x-python",
   "name": "python",
   "nbconvert_exporter": "python",
   "pygments_lexer": "ipython3",
   "version": "3.6.1"
  }
 },
 "nbformat": 4,
 "nbformat_minor": 2
}
